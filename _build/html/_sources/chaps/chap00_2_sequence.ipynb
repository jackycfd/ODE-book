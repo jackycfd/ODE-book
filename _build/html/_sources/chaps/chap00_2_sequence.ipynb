{
 "cells": [
  {
   "cell_type": "markdown",
   "id": "a79489c9-e461-439c-a94f-528e08119058",
   "metadata": {},
   "source": [
    "## Sequences\n",
    "\n",
    "In analysis, we often deal with functions defined on continuous domains. For example, a cubic function defined on the real number set $\\mathbb{R}$ as \n",
    "\\begin{equation}\n",
    "f(x)=x^3, \\qquad x \\in \\mathbb{R}.\n",
    "\\end{equation}\n",
    "Sometimes the domain might not be continuous but discrete. For example, we can define an exponential  function, with base $3$, on the integer number set $\\mathbb{Z}$ as\n",
    "\n",
    "```{math}\n",
    ":label: eq:sequence:example:1\n",
    "\\begin{equation}\n",
    "f(n)=3^n, \\qquad n \\in \\mathbb{Z},\n",
    "\\end{equation}\n",
    "```\n",
    "where $\\mathbb{Z}=\\{\\ldots,-2,-1,0,1,2,\\ldots\\}$. \n",
    "\n",
    "We can also define an exponential function, with base $2$, on the whole number set $\\mathbb{N}_0$ as\n",
    "\n",
    "```{math}\n",
    ":label: eq:sequence:example:2\n",
    "\\begin{equation}\n",
    "f(n)=2^n, \\qquad n \\in \\mathbb{N}_0,\n",
    "\\end{equation}\n",
    "```\n",
    "\n",
    "where $\\mathbb{N}_0=\\{0,1,2,\\ldots\\}$, and so the output of this function will be \n",
    "\n",
    "\\begin{equation*}\n",
    "1, 2, 4, 8, 16, \\ldots\n",
    "\\end{equation*}\n",
    "\n",
    "Functions given in {eq}`eq:sequence:example:1` and {eq}`eq:sequence:example:2` are called sequences.\n",
    "\n",
    "::::{prf:definition} Sequence\n",
    "In mathematics, a sequence is a function whose domain is a set of integers. An output of a sequence is called a member or term of it. \n",
    "Specifically, we will regard the expression $\\{y_n\\}_{n=0}^{+\\infty}$ to be an alternative notation for the function $y_n=y(n), n=0,1,2,\\ldots$\n",
    "::::\n",
    "\n",
    "Note: A sequence is not necessarily a set. The elements in a set cannot be repeated, while the members in a sequence can be repeated, e.g. $0, 1, 1, 2, 2, 2, 3.7, 4.9, 4.9,\\ldots$\n"
   ]
  }
 ],
 "metadata": {
  "kernelspec": {
   "display_name": "Python 3 (ipykernel)",
   "language": "python",
   "name": "python3"
  },
  "language_info": {
   "codemirror_mode": {
    "name": "ipython",
    "version": 3
   },
   "file_extension": ".py",
   "mimetype": "text/x-python",
   "name": "python",
   "nbconvert_exporter": "python",
   "pygments_lexer": "ipython3",
   "version": "3.10.9"
  }
 },
 "nbformat": 4,
 "nbformat_minor": 5
}
