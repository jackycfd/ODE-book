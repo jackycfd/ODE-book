{
 "cells": [
  {
   "cell_type": "markdown",
   "id": "9c04fc88-ae4f-409f-8650-527ac7086022",
   "metadata": {},
   "source": [
    "# Interpolating Polynomial\n",
    "\n",
    "```{tableofcontents}\n",
    "```\n",
    "\n",
    "\\begin{equation} \n",
    "y ' = f(x,y) \\qquad a\\leq x\\leq b, \\qquad y(a)=\\eta \n",
    "\\end{equation}\n",
    "\n",
    "\\begin{equation*} \n",
    "y ' = f(x,y) \\qquad a\\leq x\\leq b, \\qquad y(a)=\\eta \n",
    "\\end{equation*}"
   ]
  },
  {
   "cell_type": "code",
   "execution_count": null,
   "id": "10b0785a-c63e-4afb-b748-c9e57204f86d",
   "metadata": {},
   "outputs": [],
   "source": []
  }
 ],
 "metadata": {
  "kernelspec": {
   "display_name": "Python 3 (ipykernel)",
   "language": "python",
   "name": "python3"
  },
  "language_info": {
   "codemirror_mode": {
    "name": "ipython",
    "version": 3
   },
   "file_extension": ".py",
   "mimetype": "text/x-python",
   "name": "python",
   "nbconvert_exporter": "python",
   "pygments_lexer": "ipython3",
   "version": "3.10.9"
  }
 },
 "nbformat": 4,
 "nbformat_minor": 5
}