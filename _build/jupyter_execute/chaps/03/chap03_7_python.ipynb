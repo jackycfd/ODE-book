{
 "cells": [
  {
   "cell_type": "markdown",
   "metadata": {},
   "source": [
    "# Example Python Codes\n",
    "\n",
    "## Python Program 1"
   ]
  },
  {
   "cell_type": "code",
   "execution_count": 1,
   "metadata": {},
   "outputs": [
    {
     "name": "stdout",
     "output_type": "stream",
     "text": [
      "Code Output:\n",
      " t       yp         y          F         y_ex      AbsError\n",
      "0.00  0.0000000  1.0000000  0.0000000  1.0000000  0.00000000\n",
      "0.10  0.0000000  1.0048374  0.0951626  1.0048374  0.00000000\n",
      "0.20  0.0000000  1.0187308  0.1812692  1.0187308  0.00000000\n",
      "0.30  0.0000000  1.0408182  0.2591818  1.0408182  0.00000000\n",
      "0.40  1.0703229  1.0703197  0.3296803  1.0703200  0.00000031\n",
      "0.50  1.1065330  1.1065301  0.3934699  1.1065307  0.00000056\n",
      "0.60  1.1488135  1.1488109  0.4511891  1.1488116  0.00000075\n",
      "0.70  1.1965868  1.1965844  0.5034156  1.1965853  0.00000091\n",
      "0.80  1.2493301  1.2493279  0.5506721  1.2493290  0.00000103\n",
      "0.90  1.3065705  1.3065685  0.5934315  1.3065697  0.00000111\n",
      "1.00  1.3678800  1.3678783  0.6321217  1.3678794  0.00000117\n"
     ]
    }
   ],
   "source": [
    "#6G6Z3017 Computational Methods in ODEs - Chapter 2, Example 2(Python Program 1)\n",
    "#Scriptfile to solve a single 1st order Ordinary Differential Equation,\n",
    "#using the exact solution to calculate the starting values and \n",
    "#the 4th order Adams-Bashforth-Moulton method \n",
    "#for the remaining integration time span.\n",
    "import math\n",
    "import numpy as np\n",
    "\n",
    "def f(t,y):\n",
    "    return -y+t+1;\n",
    "\n",
    "h=0.1;\n",
    "nsteps=11;\n",
    "#declare arrays\n",
    "t=np.zeros(nsteps);\n",
    "y=np.zeros(nsteps);\n",
    "yp=np.zeros(nsteps);\n",
    "F=np.zeros(nsteps);\n",
    "yex=np.zeros(nsteps);\n",
    "abserror=np.zeros(nsteps);\n",
    "#initial values\n",
    "t[0]=0.0;\n",
    "y[0]=1.0;\n",
    "yp[0]=0.0;\n",
    "F[0]=f(t[0],y[0]);\n",
    "#calculate the first 3 starting values using the exact solution\n",
    "for i in range(1,4):\n",
    "    t[i]=t[i-1]+h;\n",
    "    y[i]=math.exp(-t[i])+t[i];\n",
    "    F[i]=f(t[i],y[i]);\n",
    "    yp[i]=0;    \n",
    "#use multiple-step method to calculate y\n",
    "for i in range(4,nsteps):\n",
    "    yp[i]=y[i-1]+(h/24)*(55*F[i-1]-59*F[i-2]+37*F[i-3]-9*F[i-4]);\n",
    "    t[i]=t[i-1]+h;\n",
    "    F[i]=f(t[i],yp[i]);\n",
    "    y[i]=y[i-1]+(h/24)*(9*F[i]+19*F[i-1]-5*F[i-2]+F[i-3]);        \n",
    "    F[i]=f(t[i],y[i]);\n",
    "#screen output\n",
    "print(\"Code Output:\")\n",
    "print(\" t       yp         y          F         y_ex      AbsError\");\n",
    "for i in range(nsteps):\n",
    "    yex[i]=math.exp(-t[i])+t[i];\n",
    "    abserror[i]=abs(yex[i]-y[i]);\n",
    "    print(\"%4.2f %10.7f %10.7f %10.7f %10.7f %11.8f\" %(t[i],yp[i],y[i],F[i],yex[i],abserror[i]))\n"
   ]
  },
  {
   "cell_type": "markdown",
   "metadata": {},
   "source": [
    "## Python Program 2"
   ]
  },
  {
   "cell_type": "code",
   "execution_count": 2,
   "metadata": {},
   "outputs": [
    {
     "name": "stdout",
     "output_type": "stream",
     "text": [
      "Code Output:\n",
      " t       yp         y          F         y_ex      AbsError\n",
      "0.00  0.0000000  1.0000000  0.0000000  1.0000000  0.00000000\n",
      "0.10  0.0000000  1.0048375  0.0951625  1.0048374  0.00000008\n",
      "0.20  0.0000000  1.0187309  0.1812691  1.0187308  0.00000015\n",
      "0.30  0.0000000  1.0408184  0.2591816  1.0408182  0.00000020\n",
      "0.40  1.0703231  1.0703199  0.3296801  1.0703200  0.00000013\n",
      "0.50  1.1065332  1.1065303  0.3934697  1.1065307  0.00000039\n",
      "0.60  1.1488136  1.1488110  0.4511890  1.1488116  0.00000060\n",
      "0.70  1.1965869  1.1965845  0.5034155  1.1965853  0.00000077\n",
      "0.80  1.2493302  1.2493281  0.5506719  1.2493290  0.00000090\n",
      "0.90  1.3065706  1.3065687  0.5934313  1.3065697  0.00000100\n",
      "1.00  1.3678801  1.3678784  0.6321216  1.3678794  0.00000108\n"
     ]
    }
   ],
   "source": [
    "#6G6Z3017 Computational Methods in ODEs - Chapter 2, Example 2 (Python Program 2)\n",
    "#Scriptfile to solve a single 1st order Ordinary Differential Equation,\n",
    "#using the standard 4th order RK method to calculate the starting values and\n",
    "#4th order ABM method for the solution of the remaining integration time span.\n",
    "#The result is written to a file called 'c2ex2p2.res'.\n",
    "import math\n",
    "import numpy as np\n",
    "\n",
    "def f(t,y):\n",
    "    return -y+t+1;\n",
    "\n",
    "h=0.1;\n",
    "nsteps=11;\n",
    "#declare arrays\n",
    "t=np.zeros(nsteps);\n",
    "y=np.zeros(nsteps);\n",
    "yp=np.zeros(nsteps);\n",
    "F=np.zeros(nsteps);\n",
    "yex=np.zeros(nsteps);\n",
    "abserror=np.zeros(nsteps);\n",
    "#initial values\n",
    "t[0]=0.0;\n",
    "y[0]=1.0;\n",
    "yp[0]=0.0;\n",
    "F[0]=f(t[0],y[0]);\n",
    "#calculate the next 3 starting values using RK 4th order method\n",
    "for i in range(1,4):\n",
    "    k1=h*f(t[i-1]+h*0.0, y[i-1]);\n",
    "    k2=h*f(t[i-1]+h*0.5, y[i-1]+k1*0.5);\n",
    "    k3=h*f(t[i-1]+h*0.5, y[i-1]+k2*0.5);\n",
    "    k4=h*f(t[i-1]+h*1.0, y[i-1]+k3);\n",
    "    y[i]=y[i-1]+1.0/6.0*(k1+2*(k2+k3)+k4);\n",
    "    t[i]=t[i-1]+h;\n",
    "    F[i]=f(t[i],y[i]);\n",
    "    yp[i]=0;    \n",
    "#use multiple-step method to calculate y\n",
    "for i in range(4,nsteps):\n",
    "    yp[i]=y[i-1]+(h/24)*(55*F[i-1]-59*F[i-2]+37*F[i-3]-9*F[i-4]);\n",
    "    t[i]=t[i-1]+h;\n",
    "    F[i]=f(t[i],yp[i]);\n",
    "    y[i]=y[i-1]+(h/24)*(9*F[i]+19*F[i-1]-5*F[i-2]+F[i-3]);        \n",
    "    F[i]=f(t[i],y[i]);\n",
    "#screen output\n",
    "print(\"Code Output:\")\n",
    "print(\" t       yp         y          F         y_ex      AbsError\");\n",
    "for i in range(nsteps):\n",
    "    yex[i]=math.exp(-t[i])+t[i];\n",
    "    abserror[i]=abs(yex[i]-y[i]);\n",
    "    print(\"%4.2f %10.7f %10.7f %10.7f %10.7f %11.8f\" %(t[i],yp[i],y[i],F[i],yex[i],abserror[i]))"
   ]
  }
 ],
 "metadata": {
  "kernelspec": {
   "display_name": "base",
   "language": "python",
   "name": "python3"
  },
  "language_info": {
   "codemirror_mode": {
    "name": "ipython",
    "version": 3
   },
   "file_extension": ".py",
   "mimetype": "text/x-python",
   "name": "python",
   "nbconvert_exporter": "python",
   "pygments_lexer": "ipython3",
   "version": "3.10.9"
  }
 },
 "nbformat": 4,
 "nbformat_minor": 2
}