{
 "cells": [
  {
   "cell_type": "markdown",
   "id": "94313a54-d9dd-4381-be37-1cff0adff84b",
   "metadata": {},
   "source": [
    "# Complex Numbers, Difference Equations\n",
    "\n",
    "```{tableofcontents}\n",
    "```\n",
    "\n",
    "**Learning Objectives**:\n",
    "\n",
    "This chapter lays the basics for learning multi-step methods for solving ordinary differential equations. After completing this chapter you should be able to:\n",
    "- Simplify algebraic expressions for complex variables and find the corresponding real and imaginary components;\n",
    "- Understand the definition of difference equation;\n",
    "- Distinguish different types of difference equations, telling their\n",
    "  * Order,\n",
    "  * Linearity (linear or nonlinear),\n",
    "  * Homogeneity (homogeneous or non-homogeneous);      \n",
    "- Find the general solution to a homogeneous linear difference equation. \n",
    "\n"
   ]
  },
  {
   "cell_type": "code",
   "execution_count": null,
   "id": "3545ef74-af03-4c46-9830-3f5e3ca5018e",
   "metadata": {},
   "outputs": [],
   "source": []
  }
 ],
 "metadata": {
  "kernelspec": {
   "display_name": "Python 3 (ipykernel)",
   "language": "python",
   "name": "python3"
  },
  "language_info": {
   "codemirror_mode": {
    "name": "ipython",
    "version": 3
   },
   "file_extension": ".py",
   "mimetype": "text/x-python",
   "name": "python",
   "nbconvert_exporter": "python",
   "pygments_lexer": "ipython3",
   "version": "3.10.9"
  }
 },
 "nbformat": 4,
 "nbformat_minor": 5
}