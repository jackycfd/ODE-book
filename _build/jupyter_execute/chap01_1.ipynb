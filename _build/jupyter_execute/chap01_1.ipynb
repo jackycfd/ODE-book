{
 "cells": [
  {
   "cell_type": "markdown",
   "id": "bd525ee0-1e08-440b-9cba-ebe55a86e847",
   "metadata": {},
   "source": [
    "## Finite Difference Tables and Notations\n",
    "\n"
   ]
  }
 ],
 "metadata": {
  "kernelspec": {
   "display_name": "Python 3 (ipykernel)",
   "language": "python",
   "name": "python3"
  },
  "language_info": {
   "codemirror_mode": {
    "name": "ipython",
    "version": 3
   },
   "file_extension": ".py",
   "mimetype": "text/x-python",
   "name": "python",
   "nbconvert_exporter": "python",
   "pygments_lexer": "ipython3",
   "version": "3.10.9"
  }
 },
 "nbformat": 4,
 "nbformat_minor": 5
}