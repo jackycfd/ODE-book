{
 "cells": [
  {
   "cell_type": "code",
   "execution_count": 4,
   "id": "c026fdb3-867a-4449-97f2-bf205fe5fd59",
   "metadata": {},
   "outputs": [],
   "source": [
    "%load_ext tikzmagic"
   ]
  },
  {
   "cell_type": "markdown",
   "id": "40840990-4364-4eed-960b-dcee6c2a8c64",
   "metadata": {},
   "source": []
  },
  {
   "cell_type": "markdown",
   "id": "2fceb4c3-7cae-4d4c-addb-bb41497d39ed",
   "metadata": {},
   "source": [
    "%%tikz -f svg\n",
    "\\coordinate (N1) at (1,0);\n",
    "\\coordinate (N2) at (2,0);\n",
    "\\coordinate (N3) at (3,0);\n",
    "\\coordinate (N4) at (0,1);\n",
    "\\coordinate (N5) at (1,1);\n",
    "\\coordinate (N6) at (2,1);\n",
    "\\foreach\\n/\\dir in {1/north,2/north,3/north,4/south,5/south,6/south}\n",
    "{   \\node at (N\\n) [anchor=\\dir] {\\n};\n",
    "    \\fill (N\\n) circle (1pt);\n",
    "}\n",
    "\\foreach\\n/\\m in {1/2,1/5,2/3,2/6,4/5,5/6}\n",
    "{   \\draw (N\\n) to (N\\m);\n",
    "}"
   ]
  },
  {
   "cell_type": "code",
   "execution_count": null,
   "id": "c92f1264-c570-41a2-ad0a-bd2c95fbf98e",
   "metadata": {},
   "outputs": [],
   "source": []
  }
 ],
 "metadata": {
  "kernelspec": {
   "display_name": "Python 3 (ipykernel)",
   "language": "python",
   "name": "python3"
  },
  "language_info": {
   "codemirror_mode": {
    "name": "ipython",
    "version": 3
   },
   "file_extension": ".py",
   "mimetype": "text/x-python",
   "name": "python",
   "nbconvert_exporter": "python",
   "pygments_lexer": "ipython3",
   "version": "3.10.9"
  }
 },
 "nbformat": 4,
 "nbformat_minor": 5
}
