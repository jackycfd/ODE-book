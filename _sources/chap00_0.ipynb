{
 "cells": [
  {
   "cell_type": "markdown",
   "id": "12b064f5-0899-4986-a914-72678ea2735d",
   "metadata": {},
   "source": [
    "# Complex Numbers, Difference Equations\n",
    "\n",
    "```{tableofcontents}\n",
    "```\n",
    "\n",
    "\\begin{equation} \n",
    "y ' = f(x,y) \\qquad a\\leq x\\leq b, \\qquad y(a)=\\eta \n",
    "\\end{equation}\n",
    "\n",
    "\\begin{equation*} \n",
    "y ' = f(x,y) \\qquad a\\leq x\\leq b, \\qquad y(a)=\\eta \n",
    "\\end{equation*}"
   ]
  }
 ],
 "metadata": {
  "kernelspec": {
   "display_name": "Python 3 (ipykernel)",
   "language": "python",
   "name": "python3"
  },
  "language_info": {
   "codemirror_mode": {
    "name": "ipython",
    "version": 3
   },
   "file_extension": ".py",
   "mimetype": "text/x-python",
   "name": "python",
   "nbconvert_exporter": "python",
   "pygments_lexer": "ipython3",
   "version": "3.10.9"
  }
 },
 "nbformat": 4,
 "nbformat_minor": 5
}
